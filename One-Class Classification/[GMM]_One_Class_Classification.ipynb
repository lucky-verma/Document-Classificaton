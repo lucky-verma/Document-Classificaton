{
 "cells": [
  {
   "cell_type": "code",
   "execution_count": 1,
   "metadata": {
    "colab": {
     "base_uri": "https://localhost:8080/",
     "height": 35
    },
    "id": "A5p_Wd99bz2O",
    "outputId": "8dbd8efc-69e5-404c-a5a3-61d2e5a15d17"
   },
   "outputs": [
    {
     "data": {
      "text/plain": [
       "'https://hackernoon.com/one-class-classification-for-images-with-deep-features-be890c43455d '"
      ]
     },
     "execution_count": 1,
     "metadata": {},
     "output_type": "execute_result"
    }
   ],
   "source": [
    "#@title **OC SVM** v/s **GMM** classfier using pretrained *Resnet50* { display-mode: \"form\" }\r\n",
    "\r\n",
    "#Intro\r\n",
    "\r\n",
    "\r\n",
    "'Binary classification is arguably the most widely documented domain of supervised machine learning, at least within its application toward classifying non-Image data. In a ham vs spam email detector, the data for each class is bound by the limitations of the medium; each instance will most definitely be a variant of an email. However, an interesting problem arises when attempting to apply a ham vs spam concept with image classification.'\r\n",
    "## The Problem\r\n",
    "\r\n",
    "'Consider the issue that arises when building a model whose purpose it is to determine whether a car exists in its field of view. You may have several thousand images of cars you would like to train the model to recognize, but what about instances of “Not Car” images? It doesn’t take long for one to realize that unlike the data in the ham vs spam email problem, the amount of instances that qualify as “Not Car” are near infinite: infinity \\ car if you want to be cheeky about it.'\r\n",
    "'While there are several pretrained models for classifying cars, projects in an industry are not always so straightforward. When faced with one such project, I found the documentation around this “One Class Classification” idea to be pretty paltry. There were several recommendations of building a model with autoencoders, but as a infrequent practitioner of Keras and naive in the space of image classification overall, I found such methods to be a little hard to “pick up and go” within the span of a few hours (maybe one of you readers could contribute a kernel taking this approach for the rest of us).'\r\n",
    "\r\n",
    "'I did find one promising article written by Aniket Bhatnagar on Hackernoon though. Instead of building a custom model with auto-encoders, Aniket outlined the process of extracting features with the popular ResNet50 model, scaling and reducing the dimensionality of such features, then using a selection of scikit-learn algorithms for classification; all of this while training only on positive class images (the GMM model however uses a combination of positive/not positive images in its validation set). '\r\n",
    "\r\n",
    "'I implemented Aniket’s procedure to a project with industry data and was pleased with its results, even before optimization. However, while the article was very informative, it did not include the complete code to create a project from scratch, which is the inspiration behind this notebook. Aniket’s article is also listed below; I definitely recommend reading it alongside this notebook.'\r\n",
    "\r\n",
    "'https://hackernoon.com/one-class-classification-for-images-with-deep-features-be890c43455d '"
   ]
  },
  {
   "cell_type": "markdown",
   "metadata": {
    "id": "UYmvIDs5csQQ"
   },
   "source": [
    "### Keras implementation"
   ]
  },
  {
   "cell_type": "markdown",
   "metadata": {
    "id": "8D2acLsufX-9"
   },
   "source": [
    "# Download Data"
   ]
  },
  {
   "cell_type": "code",
   "execution_count": null,
   "metadata": {
    "colab": {
     "base_uri": "https://localhost:8080/"
    },
    "id": "uNUT9N3HfXW1",
    "outputId": "aef600e1-df56-4626-c41c-ae0381f2053a"
   },
   "outputs": [
    {
     "name": "stdout",
     "output_type": "stream",
     "text": [
      "  % Total    % Received % Xferd  Average Speed   Time    Time     Time  Current\n",
      "                                 Dload  Upload   Total   Spent    Left  Speed\n",
      "100   889  100   889    0     0   1706      0 --:--:-- --:--:-- --:--:--  1703\n",
      "100 16.0M  100 16.0M    0     0  16.1M      0 --:--:-- --:--:-- --:--:-- 16.1M\n",
      "Archive:  roboflow.zip\n",
      " extracting: README.roboflow.txt     \n",
      "   creating: train/\n",
      "   creating: train/invoice/\n",
      " extracting: train/invoice/00001121Statement01-05-2020-1_jpg.rf.d5ff36be9d7e05255d902fa5f75853cb.jpg  \n",
      " extracting: train/invoice/079D49F-1_jpg.rf.8d9854a466cab8f043849ffca0bdfad2.jpg  \n",
      " extracting: train/invoice/0931683_2-1_jpg.rf.721cab568a2f8638876c414698223605.jpg  \n",
      " extracting: train/invoice/10160522-1_jpg.rf.7d0b7f6a13c1c5b7e41db18b7f2822d0.jpg  \n",
      " extracting: train/invoice/10161104-1_jpg.rf.ae2a5cd773e74cce1a9c8800528749fc.jpg  \n",
      " extracting: train/invoice/10162436-1_jpg.rf.43781030115f72732cd920ceed95867a.jpg  \n",
      " extracting: train/invoice/10166887-1_jpg.rf.af6ddd4d820dcb25ea053096376d9969.jpg  \n",
      " extracting: train/invoice/113F3E5-1_jpg.rf.0d4c665f767777152ddf3b5322fcb70c.jpg  \n",
      " extracting: train/invoice/113F3E5-2_jpg.rf.068f182ef5917982716b12121478e9d7.jpg  \n",
      " extracting: train/invoice/113F3E5-3_jpg.rf.ee0c1adb5a73916f409932c0992e582e.jpg  \n",
      " extracting: train/invoice/113F3E5-4_jpg.rf.c590f0e808473e26ad8ad355a7328564.jpg  \n",
      " extracting: train/invoice/113F3E5-5_jpg.rf.aea9e7875ea97cded1612da82e4785e8.jpg  \n",
      " extracting: train/invoice/1150_001-1_jpg.rf.2e1815db46e78a82ce9cab5fe31943ac.jpg  \n",
      " extracting: train/invoice/13-11-2020___Inv-_149941-2_jpg.rf.dcd97efa110c77685047ee0f0c26dc7d.jpg  \n",
      " extracting: train/invoice/1314554-Gradian-Projects-Pty-Ltd-1_jpg.rf.9123f0ca6e0bb4f7935158c613a84976.jpg  \n",
      " extracting: train/invoice/1682FC1-1_jpg.rf.2b31c8295623a537d94373d244831790.jpg  \n",
      " extracting: train/invoice/174D55E-1_jpg.rf.edff2022fe533f6207fb2a02e54ba292.jpg  \n",
      " extracting: train/invoice/18082020120802-1_jpg.rf.ee91bcc93e523226bc20b21e50d2c2ec.jpg  \n",
      " extracting: train/invoice/1956_001-1_jpg.rf.e8b1c38069ecbbdc206bb1bd68c1279b.jpg  \n",
      " extracting: train/invoice/20-00007073-1_jpg.rf.25a938989fa44ece76c29c3f98fd6258.jpg  \n",
      " extracting: train/invoice/20-00007949-1_jpg.rf.250f865281fc7e96eb29c15b61a63d95.jpg  \n",
      " extracting: train/invoice/20-00010295-1_jpg.rf.78b594bd6555cae218f5b9d8fa00963d.jpg  \n",
      " extracting: train/invoice/251F055-1_jpg.rf.b008858e482d923c144a5f46c7d2fe39.jpg  \n",
      " extracting: train/invoice/251F055-2_jpg.rf.c94c157757faf6c9cf4bebb034684eb2.jpg  \n",
      " extracting: train/invoice/2q2_jpg.rf.bb849053d10e6b7daa9f5b9878869f44.jpg  \n",
      " extracting: train/invoice/3001123117453T0-1_jpg.rf.7162529807518f1783b1202f29eaa94c.jpg  \n",
      " extracting: train/invoice/301014_0_3123458T0-1_jpg.rf.49dccb16c68e1df825077f50f0fee70b.jpg  \n",
      " extracting: train/invoice/301014_0_3123458T0-2_jpg.rf.ab6158264d0a8ccacf575a2512b9e022.jpg  \n",
      " extracting: train/invoice/301014_0_3123458T0-3_jpg.rf.628773cff0ec48dc85b78d108e036f87.jpg  \n",
      " extracting: train/invoice/301014_0_3123458T0-4_jpg.rf.3005c8d0ee4174dd5f1430074ef32d43.jpg  \n",
      " extracting: train/invoice/320482150797350-1_jpg.rf.97e2b993fb11fa16eb0d4393cc536e2a.jpg  \n",
      " extracting: train/invoice/320482150797350-2_jpg.rf.cc0023a2d8ed3d90e488b81d3fe2c433.jpg  \n",
      " extracting: train/invoice/420904665635T0-1_jpg.rf.b4ddd1dc8ab80f6aea859cb5fa81df7c.jpg  \n",
      " extracting: train/invoice/5401_GradianProjectsInv2255-1_jpg.rf.b2197645c4659b50ca99271bf74188a0.jpg  \n",
      " extracting: train/invoice/5401_GradianProjects_Inv2112-1_jpg.rf.8ce128676d17c0ba41f687cddc188ff8.jpg  \n",
      " extracting: train/invoice/5401_Gradian_Projects_INV2080-1_jpg.rf.8ad36f342ebbc4b5759092b1970eb5f2.jpg  \n",
      " extracting: train/invoice/7865-1_jpg.rf.442f09e13457e5e463b185f82ad56983.jpg  \n",
      " extracting: train/invoice/ANZ_Receipt_-_Ref_1776696746-1_jpg.rf.d5daeea546739b596acd649272d3d562.jpg  \n",
      " extracting: train/invoice/AR_Down_Payment_Invoice_20200617_092837-1_jpg.rf.99247d83c16268e5901e411792004d55.jpg  \n",
      " extracting: train/invoice/AR_Down_Payment_Invoice_20200617_092837-2_jpg.rf.1a844d667ca35abed002bd71e802f2bf.jpg  \n",
      " extracting: train/invoice/AR_Down_Payment_Invoice_20200617_092837-3_jpg.rf.d5dac36f87e21a7de715c1a34b257a4e.jpg  \n",
      " extracting: train/invoice/AR_Down_Payment_Invoice_20200617_092837-4_jpg.rf.7cd62669d5c4e468790f28696b76f9fd.jpg  \n",
      " extracting: train/invoice/AU4010QADAQ144950qoAQ144950LWFAUSprd0k1s00001-1_jpg.rf.88fc3c5eefdcd901953b913ab23f2a0c.jpg  \n",
      " extracting: train/invoice/B12002927-1_jpg.rf.94c910d6fe5a49cc89d0d85b9483a09a.jpg  \n",
      " extracting: train/invoice/CCE_20200721_132457_0001-1_jpg.rf.477ec869a7ac55160f696ba41041be78.jpg  \n",
      " extracting: train/invoice/Coates_Hire_09Oct20_19792121-1_jpg.rf.7902aac41e5a64c19f8c0e55685f19c5.jpg  \n",
      " extracting: train/invoice/Coates_Hire_09Oct20_19792121-2_jpg.rf.a043e274d89d40955898156503ccd880.jpg  \n",
      " extracting: train/invoice/Coates_Hire_16Aug20_19634237-1_jpg.rf.c857f6179199b44314b4462fdadff9ea.jpg  \n",
      " extracting: train/invoice/Coates_Hire_25Sept20_19738788-1_jpg.rf.da16df0b35c50c079317a094649d2fe2.jpg  \n",
      " extracting: train/invoice/Coates_Hire_26Oct20_19827098-1_jpg.rf.4067282627e67a83cfb15fd72b568dce.jpg  \n",
      " extracting: train/invoice/Coates_Hire_26Oct20_19827098-2_jpg.rf.95dfc8a04bd9d425971ef14125d815ae.jpg  \n",
      " extracting: train/invoice/Coates_Hire_26Oct20_19827106-1_jpg.rf.e0ebf3388b2b69c813d721d074450202.jpg  \n",
      " extracting: train/invoice/Coates_Hire_26Oct20_19827109-1_jpg.rf.7bcd0a49a5c9c6c1539e60912ae0baf5.jpg  \n",
      " extracting: train/invoice/Coates_Monthly_30Apr2020_GRAD9055-1_jpg.rf.f89857862136cc34793a361df8a78358.jpg  \n",
      " extracting: train/invoice/Coates_Monthly_30Sep2020_GRAD9055-1_jpg.rf.2146fb93f94f76cfb516c9510022e7ac.jpg  \n",
      " extracting: train/invoice/CustState423493-0806201634-1_jpg.rf.d9c9857584b83e67f8f35872d5d78c5d.jpg  \n",
      " extracting: train/invoice/Customer_Invoice___122569_______3200140-2-1_jpg.rf.63d80cf5b3eb203bd02d90b5aeb849e5.jpg  \n",
      " extracting: train/invoice/Customer_Statement_30_06_2020-1_jpg.rf.f5c5f721d6ba145c5d0867aa95806d0d.jpg  \n",
      " extracting: train/invoice/Customer_Statement_31_07_2020-1_jpg.rf.00b21eed4078d7a87f8d39d94c75c14d.jpg  \n",
      " extracting: train/invoice/DOC030920-03092020113829-1_jpg.rf.536d9238154d6c4d1c399d55b9ca4b00.jpg  \n",
      " extracting: train/invoice/DOC071320-07132020172106-1_jpg.rf.9c064a7d09c3ed38466c39e05b2d6dc1.jpg  \n",
      " extracting: train/invoice/DOC071520-07152020112041-1_jpg.rf.d9de929c759509529e4ccce5022a624e.jpg  \n",
      " extracting: train/invoice/DOC071520-07152020112041-2_jpg.rf.5fb4404f274cd8941f25a9bee76f3e47.jpg  \n",
      " extracting: train/invoice/DOC100520-10052020162541-1_jpg.rf.322bf9c17a98032665534fa788876d3d.jpg  \n",
      " extracting: train/invoice/DOC100520-10052020162541-2_jpg.rf.14e8cf5590a6daa4ad3411ed6d46cabc.jpg  \n",
      " extracting: train/invoice/DOC140420-14042020131750-1_jpg.rf.f69bbd0b83dbcb3d4401f973ca1caed9.jpg  \n",
      " extracting: train/invoice/DOC140420-14042020131750-2_jpg.rf.46240650c08d49660620c58375faf1fe.jpg  \n",
      " extracting: train/invoice/DOC140420-14042020131750-3_jpg.rf.daa0da3d3c1d9d125d0254dc1ad069cc.jpg  \n",
      " extracting: train/invoice/DOC210520-1_jpg.rf.b18caa66648e51bbd810a738df7e858b.jpg  \n",
      " extracting: train/invoice/DOC210520-2_jpg.rf.b07e31b003e6fc5935238faa446efb4c.jpg  \n",
      " extracting: train/invoice/DOC210520-3_jpg.rf.00a7b795ee13b2cffd58ed0628f6904b.jpg  \n",
      " extracting: train/invoice/DOC210520-4_jpg.rf.899486fe4dfdacf203a9993f22cc46fd.jpg  \n",
      " extracting: train/invoice/DOC210520-5_jpg.rf.b6506b5657cfe180ae4af43d916888aa.jpg  \n",
      " extracting: train/invoice/ESale-1_jpg.rf.3e9ae5c5ae4eb858a525066e2c26fa31.jpg  \n",
      " extracting: train/invoice/EStatement-1_jpg.rf.7d3237401d719ae559b2ab50733962f5.jpg  \n",
      " extracting: train/invoice/Est_1258_from__C__M_PEARCE_ELECTRICAL-1_jpg.rf.a0c7a0f97d3596c1553775e1bdd3b792.jpg  \n",
      " extracting: train/invoice/Fleet_HireQuoteNew_National-1_jpg.rf.0d5e91b194b30d8f81c1d261f4639bff.jpg  \n",
      " extracting: train/invoice/GMR_Inv_6789_Frriendlies_Set_Out_-22-6-20--1_jpg.rf.fd7fcb2606143185371c54250d5ff2fa.jpg  \n",
      " extracting: train/invoice/GMR_aged_receivables_Gradian_Projects_as_at_30-6-20-1_jpg.rf.7db8dc8aa1c991f9aeae92cdbff76147.jpg  \n",
      " extracting: train/invoice/GMR_inv_6714_Friendlies_Footbridge-1_jpg.rf.37494c2aaca981e3ba96b8b4c0b0575c.jpg  \n",
      " extracting: train/invoice/GMR_inv_6768_Friendlies_Footbridge_-22-6-20--1_jpg.rf.1a8587789e3f0ee1f22e3abf8f0fd52d.jpg  \n",
      " extracting: train/invoice/GRA013_Invoice_35931-1_jpg.rf.32df8049ca471d865303856927a16b84.jpg  \n",
      " extracting: train/invoice/Gradian3336_75Lake_Tyrrell-1_jpg.rf.a77cf7500bb490113537cf504302d29f.jpg  \n",
      " extracting: train/invoice/Gradian3342-1_jpg.rf.bf278f52d21fea2540a205e1a778e09a.jpg  \n",
      " extracting: train/invoice/Gradian_-_July_20-1_jpg.rf.cfc4aebb26201b4da9bae502b5a8558b.jpg  \n",
      " extracting: train/invoice/Gradian_Consultants_PL_-_ASIC_Annual_Review_2020-3_jpg.rf.c2d9d5778a83bf797ea5e23ac16b7de5.jpg  \n",
      " extracting: train/invoice/Gradian_Project_PL_-_Workcover_Instalment-1_jpg.rf.94cfdd7eb461f4717f2ed601418cfda4.jpg  \n",
      " extracting: train/invoice/Gradian_Projects_3_Invoice_August_2020-1_jpg.rf.1e9a39690d1ee40605e8cb874861e781.jpg  \n",
      " extracting: train/invoice/Gradian_Projects_Invoice_No-_EDS_20-21_007-1_jpg.rf.67757805a11723b46ca836bd2cf2752c.jpg  \n",
      " extracting: train/invoice/Gradian_Projects_Statement_010520-1_jpg.rf.db87bb19ccd5cccb69d0fcde732d3681.jpg  \n",
      " extracting: train/invoice/Gradian_Statement_10092020-1_jpg.rf.dacf7fd939131f1b608ec485bae83ed4.jpg  \n",
      " extracting: train/invoice/Gradian_projects-1_jpg.rf.f061b1bba7bd37c73c93f63bb77ccc42.jpg  \n",
      " extracting: train/invoice/Invoice_100_jpg.rf.b4d90ca2ff558998e1064d1ecdd662c4.jpg  \n",
      " extracting: train/invoice/Invoice_101_jpg.rf.799b629a797ebf5ad8e9570f6042fd51.jpg  \n",
      " extracting: train/invoice/Invoice_102_jpg.rf.c4901475125a2f9c72fe719488cde367.jpg  \n",
      " extracting: train/invoice/Invoice_103_jpg.rf.000187131889e635ccd6208312e3e3e7.jpg  \n",
      " extracting: train/invoice/Invoice_104_jpg.rf.63424571f1322fb5b4f8590261c0f88a.jpg  \n",
      " extracting: train/invoice/Invoice_105_jpg.rf.7e9a38c84bdee5a275322572e67192b3.jpg  \n",
      " extracting: train/invoice/Invoice_106_jpg.rf.aebac90f73787016749288a1f3ef1bca.jpg  \n",
      " extracting: train/invoice/Invoice_107_jpg.rf.157b29bddcbc978b0b000fbf18f3312b.jpg  \n",
      " extracting: train/invoice/Invoice_108_jpg.rf.49b98f32cf8b9afb67d8b34515ae3991.jpg  \n",
      " extracting: train/invoice/Invoice_109_jpg.rf.242a6b0d2c02c50fa8bd3ab1a342bba6.jpg  \n",
      " extracting: train/invoice/Invoice_10_jpg.rf.affa451bc12bd7a2f07d68660ffc2e85.jpg  \n",
      " extracting: train/invoice/Invoice_110_jpg.rf.f9a47171ceab131acc95a9705e08c167.jpg  \n",
      " extracting: train/invoice/Invoice_111_jpg.rf.a776d0c3858119259f46dd43729af47f.jpg  \n",
      " extracting: train/invoice/Invoice_112_jpg.rf.259a85fe8e3e9d47ebce12a2cb85dab8.jpg  \n",
      " extracting: train/invoice/Invoice_113_jpg.rf.77982992f23ba541be69fe7a58d8b437.jpg  \n",
      " extracting: train/invoice/Invoice_114_jpg.rf.341a1fe3e82a63321786649a59e89b87.jpg  \n",
      " extracting: train/invoice/Invoice_115_jpg.rf.5254ed50d6aaf0a7e6043863191e131c.jpg  \n",
      " extracting: train/invoice/Invoice_116_jpg.rf.6203569505018d63aeeda874a7930db2.jpg  \n",
      " extracting: train/invoice/Invoice_117_jpg.rf.d857aba9fb15294a6245ae7091b06f2c.jpg  \n",
      " extracting: train/invoice/Invoice_118_jpg.rf.e49d173bb6db81c5a1a7577c8bb5f7ed.jpg  \n",
      " extracting: train/invoice/Invoice_119_jpg.rf.2c7798e1209cd15a182b4271fbd3252b.jpg  \n",
      " extracting: train/invoice/Invoice_11_jpg.rf.c5d551e915f2800a4eaf9c394fb34f73.jpg  \n",
      " extracting: train/invoice/Invoice_121_jpg.rf.b1ed7d5682ac10791b37d6c1fbac40f8.jpg  \n",
      " extracting: train/invoice/Invoice_122_jpg.rf.cc9aa7c04dc3260da6c58f3660767644.jpg  \n",
      " extracting: train/invoice/Invoice_123_jpg.rf.aa9d68103388c2077d380650fc12a403.jpg  \n",
      " extracting: train/invoice/Invoice_125_jpg.rf.271e03eebdba7862e0ad43e947185258.jpg  \n",
      " extracting: train/invoice/Invoice_126_jpg.rf.0486b36c103a09dbf0746b874b253540.jpg  \n",
      " extracting: train/invoice/Invoice_127_jpg.rf.843d328450dadcb29ea56af61397acff.jpg  \n",
      " extracting: train/invoice/Invoice_128_jpg.rf.be832a95431af6e33912ab18f026e5d3.jpg  \n",
      " extracting: train/invoice/Invoice_129_jpg.rf.625b81d79cc4422fd623740949d35bfd.jpg  \n",
      " extracting: train/invoice/Invoice_12_jpg.rf.31f6ae82c3f642cbfd7156966c462466.jpg  \n",
      " extracting: train/invoice/Invoice_130_jpg.rf.0470537e547c29e5f71825bf2830fb38.jpg  \n",
      " extracting: train/invoice/Invoice_131_jpg.rf.7c97e68ae2d89955ea5d163a5ae2888a.jpg  \n",
      " extracting: train/invoice/Invoice_132_jpg.rf.8484266cd459d85ce280a3a051cfda18.jpg  \n",
      " extracting: train/invoice/Invoice_133_jpg.rf.2b4c17585b85dceef33071d87f8dc6a1.jpg  \n",
      " extracting: train/invoice/Invoice_134_jpg.rf.9a36c5898b425e15c48611e02a96d140.jpg  \n",
      " extracting: train/invoice/Invoice_135_jpg.rf.43b9ec9a75e1c27faa6a5b0cddaefb37.jpg  \n",
      " extracting: train/invoice/Invoice_136_jpg.rf.8ee28ac4abe7cc524d9459efb519752c.jpg  \n",
      " extracting: train/invoice/Invoice_137_jpg.rf.396b85e46fef22ebeca4ca83819cd59d.jpg  \n",
      " extracting: train/invoice/Invoice_138_jpg.rf.6a8feb5468d25c37165c0f59142182f9.jpg  \n",
      " extracting: train/invoice/Invoice_139_jpg.rf.b3d31da229bc17f2145135d5d3fb12dc.jpg  \n",
      " extracting: train/invoice/Invoice_13_jpg.rf.4e0f09bc32f1b94f4954ed1a0afc90d0.jpg  \n",
      " extracting: train/invoice/Invoice_140_jpg.rf.8a4c039e417c4f7bd23e171505eec243.jpg  \n",
      " extracting: train/invoice/Invoice_142_jpg.rf.6018150f40f29264bb9ed72beeca1422.jpg  \n",
      " extracting: train/invoice/Invoice_143_jpg.rf.b6e095783166c0bf78b4824b88d60f00.jpg  \n",
      " extracting: train/invoice/Invoice_144_jpg.rf.bf62f9bab3dc673f0c29f1a5be8ee296.jpg  \n",
      " extracting: train/invoice/Invoice_145_jpg.rf.d30db3e81878f61bfddf6e1d562898e7.jpg  \n",
      " extracting: train/invoice/Invoice_146_jpg.rf.1f3a0957f065a557e0a466448dfeb9ff.jpg  \n",
      " extracting: train/invoice/Invoice_147_jpg.rf.dd358369f9abb2bffe0330ab2dc6be02.jpg  \n",
      " extracting: train/invoice/Invoice_148_jpg.rf.5a5aee53623c8b66902c2086b7b097a8.jpg  \n",
      " extracting: train/invoice/Invoice_149_jpg.rf.6d369fcea03283c03df510bb0234f2a4.jpg  \n",
      " extracting: train/invoice/Invoice_14_jpg.rf.70e30d08f3a17be1b9450e219b39f6b3.jpg  \n",
      " extracting: train/invoice/Invoice_150_jpg.rf.ab785193573953beb429c8589faa39eb.jpg  \n",
      " extracting: train/invoice/Invoice_151_jpg.rf.220031b99b1eb53c8f81111551e59052.jpg  \n",
      " extracting: train/invoice/Invoice_152_jpg.rf.c3b62a63fd5686373b32bc502db2c328.jpg  \n",
      " extracting: train/invoice/Invoice_153_jpg.rf.d9b1599809f4892a9eaa6b78e9e44d70.jpg  \n",
      " extracting: train/invoice/Invoice_154_jpg.rf.c02b508c7103da4ab6cc334526c62388.jpg  \n",
      " extracting: train/invoice/Invoice_155_jpg.rf.40e4e67b4107f34625a9ad343be488d4.jpg  \n",
      " extracting: train/invoice/Invoice_156_jpg.rf.558546dd8288cf5eee37a0e6122c2bf6.jpg  \n",
      " extracting: train/invoice/Invoice_157_jpg.rf.0ffa09d8b47798d87ad71760fdf39138.jpg  \n",
      " extracting: train/invoice/Invoice_158_jpg.rf.c182a4c265e1c906ac3e1a381bd74bb2.jpg  \n",
      " extracting: train/invoice/Invoice_159_jpg.rf.4e07a9ec55eb5355bf9e789b475ce156.jpg  \n",
      " extracting: train/invoice/Invoice_160_jpg.rf.69b723b99351265e31540f2c898d4e2e.jpg  \n",
      " extracting: train/invoice/Invoice_161_jpg.rf.73f51dc3729a11ab20c664693f6f5cb6.jpg  \n",
      " extracting: train/invoice/Invoice_162_jpg.rf.d68a8d7b9bd8f2c52b3458c3c798ecc7.jpg  \n",
      " extracting: train/invoice/Invoice_163_jpg.rf.73a3c1dbedaabe319a30188e45fe04aa.jpg  \n",
      " extracting: train/invoice/Invoice_164_jpg.rf.cd3118c12183ab13eb9b8d5d82771cc4.jpg  \n",
      " extracting: train/invoice/Invoice_165_jpg.rf.4eac335983773fd5ecf6c23418c0fd94.jpg  \n",
      " extracting: train/invoice/Invoice_166_jpg.rf.02bb13f53e9ce544e06df0e22dbbf10b.jpg  \n",
      " extracting: train/invoice/Invoice_168_jpg.rf.122330157e0e0c45b3dfa1a54bc41243.jpg  \n",
      " extracting: train/invoice/Invoice_169_jpg.rf.1e059ab98cd563cac8c0457769eec0d5.jpg  \n",
      " extracting: train/invoice/Invoice_170_jpg.rf.aea8d4399570f26b4b8777928bc3263a.jpg  \n",
      " extracting: train/invoice/Invoice_171_jpg.rf.2e8e776db75251340e2833e65e411a3b.jpg  \n",
      " extracting: train/invoice/Invoice_172_jpg.rf.449e70216d14f456780459ab27896530.jpg  \n",
      " extracting: train/invoice/Invoice_173_jpg.rf.34de2bae960fd32f30654cf232524139.jpg  \n",
      " extracting: train/invoice/Invoice_174_jpg.rf.b4fe9b11a336613ff51e030682f5fd8b.jpg  \n",
      " extracting: train/invoice/Invoice_175_jpg.rf.bd7141e9f7260af297fcc2a2a744285c.jpg  \n",
      " extracting: train/invoice/Invoice_176_jpg.rf.2b5f4f7393e277eaffeef4dbddb44100.jpg  \n",
      " extracting: train/invoice/Invoice_177_jpg.rf.837adcaeaa312525d715af17c8c25783.jpg  \n",
      " extracting: train/invoice/Invoice_178_jpg.rf.4ecb2f5d77dca05feab370dae4fce2c4.jpg  \n",
      " extracting: train/invoice/Invoice_179_jpg.rf.ceaa6bc8d5e02ae1af7870d77b5d5767.jpg  \n",
      " extracting: train/invoice/Invoice_17_jpg.rf.4b5c8c28ba44976cd72a48cc15183491.jpg  \n",
      " extracting: train/invoice/Invoice_180_jpg.rf.b70783db8ff2214932034272c1a1e3ad.jpg  \n",
      " extracting: train/invoice/Invoice_181_jpg.rf.0e3cfbf033790e78f7eb20af56e0fa20.jpg  \n",
      " extracting: train/invoice/Invoice_182_jpg.rf.ed61e32ddc61e6e8564ca120788cc121.jpg  \n",
      " extracting: train/invoice/Invoice_183_jpg.rf.eac3c2e1272270e507d0cf7739092b17.jpg  \n",
      " extracting: train/invoice/Invoice_185_jpg.rf.e5f1994ee628c16996ff47f8bbc787ab.jpg  \n",
      " extracting: train/invoice/Invoice_186_jpg.rf.072da86479f87301b93833dabad5afb9.jpg  \n",
      " extracting: train/invoice/Invoice_188_jpg.rf.97af64188e50c58ca4c175a813351bce.jpg  \n",
      " extracting: train/invoice/Invoice_189_jpg.rf.d980dce8d87ff36afc1678ca2b09409f.jpg  \n",
      " extracting: train/invoice/Invoice_18_jpg.rf.3a5c2f800f74018f0e9d9708e87e2b04.jpg  \n",
      " extracting: train/invoice/Invoice_190_jpg.rf.0c0ee14b9b1942efe0c59e01d6d11a2a.jpg  \n",
      " extracting: train/invoice/Invoice_191_jpg.rf.82c4156e1defb3d747593995589aa2cb.jpg  \n",
      " extracting: train/invoice/Invoice_192_jpg.rf.34588ec281b2678b6eaa84c21f3fff4a.jpg  \n",
      " extracting: train/invoice/Invoice_193_jpg.rf.430587315711a2b3f4953aa17683fe07.jpg  \n",
      " extracting: train/invoice/Invoice_194_jpg.rf.3fbb9f662697286ac301e6a02e928782.jpg  \n",
      " extracting: train/invoice/Invoice_195_jpg.rf.f204dff47bc7b10bffa2b99e74a81275.jpg  \n",
      " extracting: train/invoice/Invoice_19_jpg.rf.2a24aee2a3a9614a408226d12e4e7592.jpg  \n",
      " extracting: train/invoice/Invoice_1_jpg.rf.62b07dfa1ad33a1e6b5e734005492ff5.jpg  \n",
      " extracting: train/invoice/Invoice_20_jpg.rf.86593244964e0b20a3eb441b467fa18e.jpg  \n",
      " extracting: train/invoice/Invoice_21_jpg.rf.809380293a3e5f0b6c87bed5bfad8a7e.jpg  \n",
      " extracting: train/invoice/Invoice_22_jpg.rf.8fb93805c13102f977f3cb8a7b0f57c0.jpg  \n",
      " extracting: train/invoice/Invoice_24_jpg.rf.8e56732a53277fd438f3c5ada55d842c.jpg  \n",
      " extracting: train/invoice/Invoice_25_jpg.rf.8dcfe09fbe4b261264fb1e7b1161ca61.jpg  \n",
      " extracting: train/invoice/Invoice_26_jpg.rf.acd6c590f39d8626a2d27d23f9e4dfb4.jpg  \n",
      " extracting: train/invoice/Invoice_27_jpg.rf.5f5b34a2f2038d622e69a1da175eb4f9.jpg  \n",
      " extracting: train/invoice/Invoice_28_jpg.rf.fd10d1dfec8e1d4c9cb8584f2d455738.jpg  \n",
      " extracting: train/invoice/Invoice_29_jpg.rf.c135354e97daea478c495ee0e6483b82.jpg  \n",
      " extracting: train/invoice/Invoice_2_jpg.rf.e14b9019dc3522edd11b40169fdf8362.jpg  \n",
      " extracting: train/invoice/Invoice_30_jpg.rf.09f41f347ee8dc4325656d64c7636543.jpg  \n",
      " extracting: train/invoice/Invoice_31_jpg.rf.252728859e91c8c0634cee39a10077d6.jpg  \n",
      " extracting: train/invoice/Invoice_32_jpg.rf.5a1d2bc8ba00c78d301868970332ba29.jpg  \n",
      " extracting: train/invoice/Invoice_33_jpg.rf.fe2b5d36d3adbc57840c70bd627585d8.jpg  \n",
      " extracting: train/invoice/Invoice_34_jpg.rf.e6153d25c1a2cd1032712000dbe97098.jpg  \n",
      " extracting: train/invoice/Invoice_35_jpg.rf.0a21ecebc4df3c30f58fb57a17bd71d5.jpg  \n",
      " extracting: train/invoice/Invoice_36_jpg.rf.3ebbfa839ad6b78393ff0e5713e5ee06.jpg  \n",
      " extracting: train/invoice/Invoice_37_jpg.rf.c42fb64fa0b43af036650771f0e9b7fe.jpg  \n",
      " extracting: train/invoice/Invoice_38_jpg.rf.3c01ab2f9961fd6a63c84533ff34aff8.jpg  \n",
      " extracting: train/invoice/Invoice_39_jpg.rf.b1f84f655ef7096502648ab75af87f3b.jpg  \n",
      " extracting: train/invoice/Invoice_3_jpg.rf.60c879070570975dd8ba6d0f872af619.jpg  \n",
      " extracting: train/invoice/Invoice_40_jpg.rf.bc06a8b3fbade0ec6f633050cde5c257.jpg  \n",
      " extracting: train/invoice/Invoice_41_jpg.rf.360fffa9a0a899f4ea21ccfd9a817a81.jpg  \n",
      " extracting: train/invoice/Invoice_42_jpg.rf.d61108272396b2ae4bb7a061b6e3e49c.jpg  \n",
      " extracting: train/invoice/Invoice_43_jpg.rf.0034ca5837a7448f510c5a2e0174c6f1.jpg  \n",
      " extracting: train/invoice/Invoice_44_jpg.rf.5daf268401a7c4bf1a9a13460b914ce1.jpg  \n",
      " extracting: train/invoice/Invoice_46_jpg.rf.01920d0ca1ed16956e3d242f4bae81ac.jpg  \n",
      " extracting: train/invoice/Invoice_47_jpg.rf.28766b0e49e64085635026947a5ec792.jpg  \n",
      " extracting: train/invoice/Invoice_48_jpg.rf.164ea4412d99be273ec5a8ebea03fd00.jpg  \n",
      " extracting: train/invoice/Invoice_49_jpg.rf.985538c6c9096c1dd021e6614d4fb2b9.jpg  \n",
      " extracting: train/invoice/Invoice_4_jpg.rf.c7f994681d9105f97a73a5fad532d90a.jpg  \n",
      " extracting: train/invoice/Invoice_52_jpg.rf.41d40766ae437d8df060d4c3cb2e6cd1.jpg  \n",
      " extracting: train/invoice/Invoice_53_jpg.rf.6a8e52c9e97e616c61127cc6de6f3edf.jpg  \n",
      " extracting: train/invoice/Invoice_54_jpg.rf.f8432a3439d73a542be067ca2b04287b.jpg  \n",
      " extracting: train/invoice/Invoice_55_jpg.rf.42c36d1258cc78881e0df215f23b1357.jpg  \n",
      " extracting: train/invoice/Invoice_56_jpg.rf.7ecf2510bc49a630f8465557f5993847.jpg  \n",
      " extracting: train/invoice/Invoice_57_jpg.rf.a92a842463513f9d29ba9d369768acbe.jpg  \n",
      " extracting: train/invoice/Invoice_58_jpg.rf.620a5229e7a644644c4ecf5d817f299e.jpg  \n",
      " extracting: train/invoice/Invoice_59_jpg.rf.91b1f3ea70cecaea0ece70bbbd827305.jpg  \n",
      " extracting: train/invoice/Invoice_60_jpg.rf.8992341dda1802c94c05521bef7f66b5.jpg  \n",
      " extracting: train/invoice/Invoice_61_jpg.rf.411b894412e318b2c5084fa97208dbe9.jpg  \n",
      " extracting: train/invoice/Invoice_62_jpg.rf.421e5c874219c22658d0ea93e753a2dc.jpg  \n",
      " extracting: train/invoice/Invoice_63_jpg.rf.f21819ef240a834f0de9c3e21eba885c.jpg  \n",
      " extracting: train/invoice/Invoice_64_jpg.rf.6f096a436d8f272f2a682efa5560df49.jpg  \n",
      " extracting: train/invoice/Invoice_65_jpg.rf.9f658833ca52516aa722770c14c63c83.jpg  \n",
      " extracting: train/invoice/Invoice_66_jpg.rf.e5752373b0ef02461f99352691a6b13b.jpg  \n",
      " extracting: train/invoice/Invoice_67_jpg.rf.c94be30e51a6b7afb0fe529c5295699d.jpg  \n",
      " extracting: train/invoice/Invoice_68_jpg.rf.2f7e63abfa22a66586cc60109e07bd86.jpg  \n",
      " extracting: train/invoice/Invoice_6_jpg.rf.5b46d86d3850922f6cc6b385d025c7c2.jpg  \n",
      "   creating: valid/\n",
      "   creating: valid/invoice/\n",
      " extracting: valid/invoice/Invoice_69_jpg.rf.e0fdd5fa983bcdfb0719a715415551f8.jpg  \n",
      " extracting: valid/invoice/Invoice_70_jpg.rf.3149a9025ddb0bdbcccff657a4360943.jpg  \n",
      " extracting: valid/invoice/Invoice_72_jpg.rf.9446fae7b89c97381efc6586d0421b5a.jpg  \n",
      " extracting: valid/invoice/Invoice_73_jpg.rf.c6cb948ef42fe9c39324957b1f59ddee.jpg  \n",
      " extracting: valid/invoice/Invoice_74_jpg.rf.013223733d5469ca2e9707c53faa41bd.jpg  \n",
      " extracting: valid/invoice/Invoice_75_jpg.rf.8a4e3fb7878087913a3ea3926efdff39.jpg  \n",
      " extracting: valid/invoice/Invoice_76_jpg.rf.eff747f19c1bed097a2a33d459e9a529.jpg  \n",
      " extracting: valid/invoice/Invoice_77_jpg.rf.89246e4438b5e86e06c610d44f4316ea.jpg  \n",
      " extracting: valid/invoice/Invoice_78_jpg.rf.195d3d19f53d3378cc18d728d6c17613.jpg  \n",
      " extracting: valid/invoice/Invoice_79_jpg.rf.b32e0cd9df55f744516c919830d1e88c.jpg  \n",
      " extracting: valid/invoice/Invoice_7_jpg.rf.8aa13f97fd426d5325827f21ab48bbb9.jpg  \n",
      " extracting: valid/invoice/Invoice_80_jpg.rf.90f22d0782d5207a1f93bde878800d8c.jpg  \n",
      " extracting: valid/invoice/Invoice_81_jpg.rf.ed5257856c2a559cd36f4345a523c449.jpg  \n",
      " extracting: valid/invoice/Invoice_82_jpg.rf.e22bfaaf3db32d10161d5bec58aabc5a.jpg  \n",
      " extracting: valid/invoice/Invoice_83_jpg.rf.7149f5f53e02422ccd26fb25c8701b04.jpg  \n",
      " extracting: valid/invoice/Invoice_84_jpg.rf.2816b1fbebbded4dc777f7e5863048c0.jpg  \n",
      " extracting: valid/invoice/Invoice_85_jpg.rf.e409345908d4322532e52b96f3037f35.jpg  \n",
      " extracting: valid/invoice/Invoice_86_jpg.rf.7093a8b02a4be76c1aade96f4c7639de.jpg  \n",
      " extracting: valid/invoice/Invoice_87_jpg.rf.3b6a11c85e41ae49ec78d9947383ab4c.jpg  \n",
      " extracting: valid/invoice/Invoice_88_jpg.rf.83af93550f244c5237390fc8054b2fbe.jpg  \n",
      " extracting: valid/invoice/Invoice_89_jpg.rf.c4893cb8f224e14dd41683aff3c39651.jpg  \n",
      " extracting: valid/invoice/Invoice_8_jpg.rf.0bfac9d0aa91c762011da88f17c36228.jpg  \n",
      " extracting: valid/invoice/Invoice_90_jpg.rf.22c2f802c097eaa4f8546ab50c740bce.jpg  \n",
      " extracting: valid/invoice/Invoice_91_jpg.rf.c2f4c858ab796e2493bb9431f9940468.jpg  \n",
      " extracting: valid/invoice/Invoice_92_jpg.rf.7f77d2366e3793b5504dad38df5f2c5a.jpg  \n",
      " extracting: valid/invoice/Invoice_93_jpg.rf.5201ba29d01aff2c9f969cded7742d79.jpg  \n",
      " extracting: valid/invoice/Invoice_95_jpg.rf.a3382e2b437488323e96feab0d82633a.jpg  \n",
      " extracting: valid/invoice/Invoice_96_jpg.rf.d32ea1cdbf538c5040133be23b992482.jpg  \n",
      " extracting: valid/invoice/Invoice_97_jpg.rf.0a71cc46f3aeee24b270016c4b073631.jpg  \n",
      " extracting: valid/invoice/Invoice_98_jpg.rf.841592d6e90d2a311e136c987113957c.jpg  \n",
      " extracting: valid/invoice/Invoice_99_jpg.rf.e7aaf23aaffb57167eb1b3c750e7c8aa.jpg  \n",
      " extracting: valid/invoice/Invoice_9_jpg.rf.d9acafa23a7d3175c1c14c264be9fc86.jpg  \n",
      " extracting: valid/invoice/_Singh-_Rohit_Invoice-1_jpg.rf.d6f436f2253457db753532b12f086cac.jpg  \n",
      " extracting: valid/invoice/af-afwfaw_jpg.rf.eab8ee57c83c3607d3e756baed9f1c9b.jpg  \n",
      " extracting: valid/invoice/awdaw_jpg.rf.f172183a4b003b93f0893fe8a23436cb.jpg  \n",
      " extracting: valid/invoice/fba4d3cd-852d-4ef3-a86f-fa0e248731e9-1_jpg.rf.6090aab9146bd4eee1242add7424c3a9.jpg  \n",
      " extracting: valid/invoice/gsegsgsgs_jpg.rf.e4710d50bbada1c6d4d44267b6e75282.jpg  \n",
      " extracting: valid/invoice/page-115_jpg.rf.ef264a8bd761663ecab33dd1365b2bf5.jpg  \n",
      " extracting: valid/invoice/page-14154_jpg.rf.23003af7dd0e728898c30b213c4c81d9.jpg  \n",
      " extracting: valid/invoice/page-17871_jpg.rf.552172fdc674fa48ccec7cec0c909539.jpg  \n",
      " extracting: valid/invoice/page-1878_jpg.rf.af54e9ae4dab3e630120efa67a0ba50b.jpg  \n",
      " extracting: valid/invoice/page-1_jpg.rf.cac414e145ea217559743d48cd271fd9.jpg  \n",
      " extracting: valid/invoice/page-1awdwad_jpg.rf.794d6de2c61e01240cc1e02316d61a07.jpg  \n",
      " extracting: valid/invoice/waweqd_jpg.rf.6de2e0806cb4d99f8ebee0b3d1e1e44e.jpg  \n"
     ]
    }
   ],
   "source": [
    "# Train data\r\n",
    "\r\n",
    "!curl -L \"https://app.roboflow.com/ds/07hjdLGFQf?key=VmTGRscuXp\" > roboflow.zip; unzip roboflow.zip; rm roboflow.zip\r\n"
   ]
  },
  {
   "cell_type": "code",
   "execution_count": null,
   "metadata": {
    "colab": {
     "base_uri": "https://localhost:8080/"
    },
    "id": "QX9BG7EAf9Mr",
    "outputId": "6783e648-f0eb-478f-e751-206f0dba23e6"
   },
   "outputs": [
    {
     "name": "stdout",
     "output_type": "stream",
     "text": [
      "  % Total    % Received % Xferd  Average Speed   Time    Time     Time  Current\n",
      "                                 Dload  Upload   Total   Spent    Left  Speed\n",
      "100 28.7M  100 28.7M    0     0  6454k      0  0:00:04  0:00:04 --:--:-- 6847k\n",
      "Archive:  test.zip\n",
      "   creating: test/\n",
      "   creating: test/invoice/\n",
      "  inflating: test/invoice/2q2.jpg    \n",
      "  inflating: test/invoice/3001123117453T0-1.jpg  \n",
      "  inflating: test/invoice/af afwfaw.jpg  \n",
      "   creating: test/others/\n",
      "  inflating: test/others/111.jpg     \n",
      "  inflating: test/others/22222.jpg   \n",
      "  inflating: test/others/3018093126017T0-1.jpg  \n",
      "  inflating: test/others/3333.jpg    \n",
      "  inflating: test/others/4444.jpg    \n",
      "  inflating: test/others/Activity_Statement_for_Gradian_Project_01Jun2020-30Jun2020-1.jpg  \n",
      "  inflating: test/others/Architecture-1.jpg  \n",
      "  inflating: test/others/Architecture-2.jpg  \n",
      "  inflating: test/others/Architecture-3.jpg  \n",
      "  inflating: test/others/Architecture-4.jpg  \n",
      "  inflating: test/others/Architecture-5.jpg  \n",
      "  inflating: test/others/Architecture-6.jpg  \n",
      "  inflating: test/others/AU4010QADAQ144950qoAQ144950LWFAUSprd0k1s00001-2.jpg  \n",
      "  inflating: test/others/board-resolution-for-appointment-of-first-auditors-of-the-company-1.jpg  \n",
      "  inflating: test/others/Boom_Lift_Hire_details_form_-_Gradian_Projects-1.jpg  \n",
      "  inflating: test/others/Boom_Lift_Hire_details_form_-_Gradian_Projects-2.jpg  \n",
      "  inflating: test/others/Boom_Lift_Hire_details_form_-_Gradian_Projects-3.jpg  \n",
      "  inflating: test/others/Boom_Lift_Hire_details_form_-_Gradian_Projects-4.jpg  \n",
      "  inflating: test/others/Boom_Lift_Hire_details_form_-_Gradian_Projects-5.jpg  \n",
      "  inflating: test/others/Boom_Lift_Hire_details_form_-_Gradian_Projects-6.jpg  \n",
      "  inflating: test/others/Boom_Lift_Hire_details_form_-_Gradian_Projects-7.jpg  \n",
      "  inflating: test/others/CB_ApplicationForm_741952-1.jpg  \n",
      "  inflating: test/others/CB_ApplicationForm_741952-2.jpg  \n",
      "  inflating: test/others/CB_ApplicationForm_741952-3.jpg  \n",
      "  inflating: test/others/CB_ApplicationForm_741952-4.jpg  \n",
      "  inflating: test/others/CB_ApplicationForm_741952-5.jpg  \n",
      "  inflating: test/others/CB_ApplicationForm_741952-6.jpg  \n",
      "  inflating: test/others/CB_ApplicationForm_741952-7.jpg  \n",
      "  inflating: test/others/CB_ApplicationForm_741952-8.jpg  \n",
      "  inflating: test/others/CB_ApplicationForm_741952-9.jpg  \n",
      "  inflating: test/others/Credit_Application_Form-1.jpg  \n",
      "  inflating: test/others/Credit_Application_Form-2.jpg  \n",
      "  inflating: test/others/Credit_Application_Form-3.jpg  \n",
      "  inflating: test/others/Credit_Application_Form-4.jpg  \n",
      "  inflating: test/others/Credit_Application_Form-5.jpg  \n",
      "  inflating: test/others/Credit_Application_Form-6.jpg  \n",
      "  inflating: test/others/Credit_Application_Form-7.jpg  \n",
      "  inflating: test/others/Credit_Application_Form-8.jpg  \n",
      "  inflating: test/others/DBC_Privacy_Statement-1.jpg  \n",
      "  inflating: test/others/DBC_Terms_&_Conditions-1.jpg  \n",
      "  inflating: test/others/DBC_Terms_&_Conditions-2.jpg  \n",
      "  inflating: test/others/DBC_Terms_&_Conditions-3.jpg  \n",
      "  inflating: test/others/DBC_Terms_&_Conditions-4.jpg  \n",
      "  inflating: test/others/DBC_Terms_&_Conditions-5.jpg  \n",
      "  inflating: test/others/deposit_slip_PDF-1.jpg  \n",
      "  inflating: test/others/DOC071520-07152020112041-3.jpg  \n",
      "  inflating: test/others/DOC071520-07152020112041-4.jpg  \n",
      "  inflating: test/others/DOC140420-14042020131750-4.jpg  \n",
      "  inflating: test/others/Fleet_HireQuoteNew_National-2.jpg  \n",
      "  inflating: test/others/Friendlies_Footbridge_-_Complete_Set_(20-05-20)-01.jpg  \n",
      "  inflating: test/others/Friendlies_Footbridge_-_Complete_Set_(20-05-20)-02.jpg  \n",
      "  inflating: test/others/Friendlies_Footbridge_-_Complete_Set_(20-05-20)-03.jpg  \n",
      "  inflating: test/others/Friendlies_Footbridge_-_Complete_Set_(20-05-20)-04.jpg  \n",
      "  inflating: test/others/Friendlies_Footbridge_-_Complete_Set_(20-05-20)-05.jpg  \n",
      "  inflating: test/others/Friendlies_Footbridge_-_Complete_Set_(20-05-20)-06.jpg  \n",
      "  inflating: test/others/Friendlies_Footbridge_-_Complete_Set_(20-05-20)-07.jpg  \n",
      "  inflating: test/others/Friendlies_Footbridge_-_Complete_Set_(20-05-20)-08.jpg  \n",
      "  inflating: test/others/Friendlies_Footbridge_-_Complete_Set_(20-05-20)-09.jpg  \n",
      "  inflating: test/others/Friendlies_Footbridge_-_Complete_Set_(20-05-20)-10.jpg  \n",
      "  inflating: test/others/Friendlies_Footbridge_-_Complete_Set_(20-05-20)-11.jpg  \n",
      "  inflating: test/others/GMR17001.16-02.04._general_arrangement_layout_&_long_section_(15-05-20)_DDA_TRIM-1.jpg  \n",
      "  inflating: test/others/Google_OAuth_Guide-01.jpg  \n",
      "  inflating: test/others/Google_OAuth_Guide-02.jpg  \n",
      "  inflating: test/others/Google_OAuth_Guide-03.jpg  \n",
      "  inflating: test/others/Google_OAuth_Guide-04.jpg  \n",
      "  inflating: test/others/Google_OAuth_Guide-05.jpg  \n",
      "  inflating: test/others/Google_OAuth_Guide-06.jpg  \n",
      "  inflating: test/others/Google_OAuth_Guide-07.jpg  \n",
      "  inflating: test/others/Google_OAuth_Guide-08.jpg  \n",
      "  inflating: test/others/Google_OAuth_Guide-09.jpg  \n",
      "  inflating: test/others/Google_OAuth_Guide-10.jpg  \n",
      "  inflating: test/others/Google_OAuth_Guide-11.jpg  \n",
      "  inflating: test/others/Google_OAuth_Guide-12.jpg  \n",
      "  inflating: test/others/Google_OAuth_Guide-13.jpg  \n",
      "  inflating: test/others/Google_OAuth_Guide-14.jpg  \n",
      "  inflating: test/others/Gradian_Consultants_PL_-_ASIC_Annual_Review_2020-1.jpg  \n",
      "  inflating: test/others/Gradian_Consultants_PL_-_ASIC_Annual_Review_2020-2.jpg  \n",
      "  inflating: test/others/Gradian_Consultants_PL_-_ASIC_Annual_Review_2020-4.jpg  \n",
      "  inflating: test/others/Gradian_Consultants_PL_-_ASIC_Solvency_resolution_2020-1.jpg  \n",
      "  inflating: test/others/Gradian_Projects_3_Timesheet_August_2020-1.jpg  \n",
      "  inflating: test/others/Gradian_Project_PL_-_Workcover_Instalment-2.jpg  \n",
      "  inflating: test/others/page-1.jpg  \n",
      "  inflating: test/others/page-2.jpg  \n",
      "  inflating: test/others/page-3.jpg  \n",
      "  inflating: test/others/page-4.jpg  \n",
      "  inflating: test/others/page-5.jpg  \n",
      "  inflating: test/others/page-6.jpg  \n"
     ]
    }
   ],
   "source": [
    "# Test Data\r\n",
    "\r\n",
    "!curl -L \"https://tmpfiles.org/dl/165600/test.zip\" > test.zip; unzip test.zip; rm test.zip\r\n"
   ]
  },
  {
   "cell_type": "code",
   "execution_count": null,
   "metadata": {
    "colab": {
     "base_uri": "https://localhost:8080/"
    },
    "id": "AFe_P__ooD_n",
    "outputId": "3e53cbde-eeb0-4ebe-9fd8-c3d17dbfd2d7"
   },
   "outputs": [
    {
     "name": "stdout",
     "output_type": "stream",
     "text": [
      "/content\n",
      "\u001b[0m\u001b[01;34mmodels\u001b[0m/  README.roboflow.txt  \u001b[01;34msample_data\u001b[0m/  \u001b[01;34mtest\u001b[0m/  \u001b[01;34mtrain\u001b[0m/  \u001b[01;34mvalid\u001b[0m/\n"
     ]
    }
   ],
   "source": [
    "%cd ../\r\n",
    "%ls"
   ]
  },
  {
   "cell_type": "code",
   "execution_count": null,
   "metadata": {
    "colab": {
     "base_uri": "https://localhost:8080/"
    },
    "id": "nZnE-VQvm5_I",
    "outputId": "6e7c37f1-cc1b-4389-c130-1ffc584e27a1"
   },
   "outputs": [
    {
     "name": "stdout",
     "output_type": "stream",
     "text": [
      "/content/models\n",
      "  % Total    % Received % Xferd  Average Speed   Time    Time     Time  Current\n",
      "                                 Dload  Upload   Total   Spent    Left  Speed\n",
      "100  174M  100  174M    0     0  15.1M      0  0:00:11  0:00:11 --:--:-- 18.2M\n",
      "Archive:  models.zip\n",
      "  inflating: imagenet_class_index.json  \n",
      "  inflating: resnet50_weights_tf_dim_ordering_tf_kernels.h5  \n",
      "  inflating: resnet50_weights_tf_dim_ordering_tf_kernels_notop.h5  \n",
      "/content\n"
     ]
    }
   ],
   "source": [
    "# Download ResNet model\r\n",
    "\r\n",
    "%mkdir models\r\n",
    "%cd models\r\n",
    "!curl -L \"https://awscdk-documentsbucket9ec9deb9-i5bemy0nz6wp.s3-ap-southeast-2.amazonaws.com/resnet50.zip\" > models.zip; unzip models.zip; rm models.zip\r\n",
    "%cd ../"
   ]
  },
  {
   "cell_type": "markdown",
   "metadata": {
    "id": "aw2canRgc0Ei"
   },
   "source": [
    "# Import libraries"
   ]
  },
  {
   "cell_type": "code",
   "execution_count": null,
   "metadata": {
    "id": "EnwJqmzKct-l"
   },
   "outputs": [],
   "source": [
    "# import libraries\r\n",
    "from IPython.display import Image, display\r\n",
    "import numpy as np\r\n",
    "import os\r\n",
    "from os.path import join\r\n",
    "from PIL import ImageFile\r\n",
    "import pandas as pd\r\n",
    "from matplotlib import cm\r\n",
    "import seaborn as sns\r\n",
    "from tensorflow.keras.models import Sequential\r\n",
    "from tensorflow.keras.layers import Dense, Flatten, GlobalAveragePooling2D\r\n",
    "from tensorflow.keras.applications.resnet50 import preprocess_input\r\n",
    "from tensorflow.keras.preprocessing.image import ImageDataGenerator\r\n",
    "from tensorflow.keras.applications import ResNet50\r\n",
    "from tensorflow.keras.preprocessing.image import load_img, img_to_array\r\n",
    "from sklearn.metrics import mean_squared_error, mean_absolute_error, roc_auc_score, classification_report, confusion_matrix\r\n",
    "import matplotlib.pyplot as plt\r\n",
    "from sklearn.utils import shuffle\r\n",
    "from sklearn.model_selection import train_test_split\r\n",
    "from sklearn.preprocessing import StandardScaler\r\n",
    "from sklearn.decomposition import PCA\r\n",
    "from sklearn.ensemble import IsolationForest\r\n",
    "from sklearn import svm\r\n",
    "from sklearn.mixture import GaussianMixture\r\n",
    "from sklearn.isotonic import IsotonicRegression\r\n",
    "import re\r\n",
    "\r\n",
    "ImageFile.LOAD_TRUNCATED_IMAGES = True\r\n",
    "plt.style.use('fivethirtyeight')\r\n",
    "%matplotlib inline"
   ]
  },
  {
   "cell_type": "markdown",
   "metadata": {
    "id": "89EJCTWbgWYq"
   },
   "source": [
    "# Data Preprocessing"
   ]
  },
  {
   "cell_type": "code",
   "execution_count": null,
   "metadata": {
    "id": "nprhMlKui8hD"
   },
   "outputs": [],
   "source": [
    "# import car images from train\r\n",
    "train_img_dir_n = \"train/invoice\"\r\n",
    "train_img_paths_n = [join(train_img_dir_n,filename) for filename in os.listdir(train_img_dir_n)]"
   ]
  },
  {
   "cell_type": "code",
   "execution_count": null,
   "metadata": {
    "id": "pq4mSqbii1QE"
   },
   "outputs": [],
   "source": [
    "# import car images from valid\r\n",
    "train_img_dir_s = \"valid/invoice\"\r\n",
    "all_train_img_paths_s = [join(train_img_dir_s,filename) for filename in os.listdir(train_img_dir_s)]\r\n",
    "\r\n",
    "# split cars data into train, test, and val\r\n",
    "train_img_paths, test_img_paths_car = train_test_split(all_train_img_paths_s+train_img_paths_n, test_size=0.25, random_state=42)\r\n",
    "train_img_paths, val_img_paths_car = train_test_split(train_img_paths, test_size=0.25, random_state=42)"
   ]
  },
  {
   "cell_type": "code",
   "execution_count": null,
   "metadata": {
    "colab": {
     "base_uri": "https://localhost:8080/"
    },
    "id": "DDjDkfLJi1Kw",
    "outputId": "f96e7a66-d56e-4679-dced-332d40de37d3"
   },
   "outputs": [
    {
     "name": "stdout",
     "output_type": "stream",
     "text": [
      "1 [['test/others/CB_ApplicationForm_741952-9.jpg', 'test/others/CB_ApplicationForm_741952-1.jpg', 'test/others/Friendlies_Footbridge_-_Complete_Set_(20-05-20)-10.jpg', 'test/others/deposit_slip_PDF-1.jpg', 'test/others/CB_ApplicationForm_741952-6.jpg', 'test/others/DOC140420-14042020131750-4.jpg', 'test/others/Gradian_Projects_3_Timesheet_August_2020-1.jpg', 'test/others/page-6.jpg', 'test/others/DBC_Terms_&_Conditions-3.jpg', 'test/others/Google_OAuth_Guide-12.jpg', 'test/others/CB_ApplicationForm_741952-5.jpg', 'test/others/board-resolution-for-appointment-of-first-auditors-of-the-company-1.jpg', 'test/others/CB_ApplicationForm_741952-4.jpg', 'test/others/Google_OAuth_Guide-13.jpg', 'test/others/3333.jpg', 'test/others/Friendlies_Footbridge_-_Complete_Set_(20-05-20)-03.jpg', 'test/others/Architecture-1.jpg', 'test/others/page-4.jpg', 'test/others/DOC071520-07152020112041-4.jpg', 'test/others/Architecture-2.jpg', 'test/others/Boom_Lift_Hire_details_form_-_Gradian_Projects-1.jpg', 'test/others/Google_OAuth_Guide-03.jpg', 'test/others/Credit_Application_Form-3.jpg', 'test/others/Architecture-5.jpg', 'test/others/Google_OAuth_Guide-14.jpg', 'test/others/DBC_Terms_&_Conditions-2.jpg', 'test/others/Boom_Lift_Hire_details_form_-_Gradian_Projects-3.jpg', 'test/others/Google_OAuth_Guide-02.jpg', 'test/others/Credit_Application_Form-2.jpg', 'test/others/Credit_Application_Form-7.jpg', 'test/others/Google_OAuth_Guide-05.jpg', 'test/others/DBC_Terms_&_Conditions-5.jpg', 'test/others/Google_OAuth_Guide-11.jpg', 'test/others/Credit_Application_Form-8.jpg', 'test/others/DBC_Privacy_Statement-1.jpg', 'test/others/Architecture-4.jpg', 'test/others/Architecture-3.jpg', 'test/others/DBC_Terms_&_Conditions-4.jpg', 'test/others/3018093126017T0-1.jpg', 'test/others/GMR17001.16-02.04._general_arrangement_layout_&_long_section_(15-05-20)_DDA_TRIM-1.jpg', 'test/others/Gradian_Consultants_PL_-_ASIC_Annual_Review_2020-4.jpg', 'test/others/Friendlies_Footbridge_-_Complete_Set_(20-05-20)-05.jpg', 'test/others/Google_OAuth_Guide-09.jpg', 'test/others/Boom_Lift_Hire_details_form_-_Gradian_Projects-4.jpg', 'test/others/Google_OAuth_Guide-07.jpg', 'test/others/Fleet_HireQuoteNew_National-2.jpg', 'test/others/Friendlies_Footbridge_-_Complete_Set_(20-05-20)-01.jpg', 'test/others/DBC_Terms_&_Conditions-1.jpg', 'test/others/Google_OAuth_Guide-01.jpg', 'test/others/Boom_Lift_Hire_details_form_-_Gradian_Projects-7.jpg', 'test/others/Boom_Lift_Hire_details_form_-_Gradian_Projects-2.jpg', 'test/others/page-5.jpg', 'test/others/CB_ApplicationForm_741952-3.jpg', 'test/others/Gradian_Project_PL_-_Workcover_Instalment-2.jpg', 'test/others/Friendlies_Footbridge_-_Complete_Set_(20-05-20)-06.jpg', 'test/others/Friendlies_Footbridge_-_Complete_Set_(20-05-20)-02.jpg', 'test/others/Credit_Application_Form-4.jpg', 'test/others/Architecture-6.jpg', 'test/others/Boom_Lift_Hire_details_form_-_Gradian_Projects-6.jpg', 'test/others/DOC071520-07152020112041-3.jpg', 'test/others/Gradian_Consultants_PL_-_ASIC_Solvency_resolution_2020-1.jpg', 'test/others/Google_OAuth_Guide-06.jpg', 'test/others/Google_OAuth_Guide-08.jpg', 'test/others/page-1.jpg', 'test/others/22222.jpg', 'test/others/Friendlies_Footbridge_-_Complete_Set_(20-05-20)-04.jpg', 'test/others/Credit_Application_Form-6.jpg', 'test/others/CB_ApplicationForm_741952-2.jpg', 'test/others/page-2.jpg', 'test/others/Boom_Lift_Hire_details_form_-_Gradian_Projects-5.jpg', 'test/others/Google_OAuth_Guide-04.jpg', 'test/others/CB_ApplicationForm_741952-8.jpg', 'test/others/Google_OAuth_Guide-10.jpg', 'test/others/Friendlies_Footbridge_-_Complete_Set_(20-05-20)-11.jpg', 'test/others/111.jpg', 'test/others/Credit_Application_Form-1.jpg', 'test/others/CB_ApplicationForm_741952-7.jpg', 'test/others/Gradian_Consultants_PL_-_ASIC_Annual_Review_2020-1.jpg', 'test/others/Friendlies_Footbridge_-_Complete_Set_(20-05-20)-09.jpg', 'test/others/Friendlies_Footbridge_-_Complete_Set_(20-05-20)-07.jpg', 'test/others/AU4010QADAQ144950qoAQ144950LWFAUSprd0k1s00001-2.jpg', 'test/others/4444.jpg', 'test/others/Gradian_Consultants_PL_-_ASIC_Annual_Review_2020-2.jpg', 'test/others/Activity_Statement_for_Gradian_Project_01Jun2020-30Jun2020-1.jpg', 'test/others/Friendlies_Footbridge_-_Complete_Set_(20-05-20)-08.jpg', 'test/others/Credit_Application_Form-5.jpg', 'test/others/page-3.jpg']]\n"
     ]
    }
   ],
   "source": [
    "# import test data for No invoice\r\n",
    "\r\n",
    "natural_images_path = \"test/\"\r\n",
    "test_img_paths_no_car = []\r\n",
    "for d in [d for d in os.listdir(\"test/\") if d!= \"invoice\"]:\r\n",
    "    test_img_dir_na = natural_images_path+d\r\n",
    "    test_img_paths_no_car.append([join(test_img_dir_na,filename) for filename in os.listdir(test_img_dir_na)])\r\n",
    "\r\n",
    "print(len(test_img_paths_no_car), test_img_paths_no_car)\r\n",
    "test_img_paths_no_car_flat = [item for sublist in test_img_paths_no_car for item in sublist]\r\n",
    "test_img_paths_no_car, val_img_paths_no_car = train_test_split(test_img_paths_no_car_flat, test_size = 0.25, random_state = 42)"
   ]
  },
  {
   "cell_type": "code",
   "execution_count": null,
   "metadata": {
    "id": "Q4r0GSEzi1D5"
   },
   "outputs": [],
   "source": [
    "def natural_img_dir(image_path):\r\n",
    "    path_regex = r\"test\\/(\\w*)\"\r\n",
    "    if 'test' in image_path:\r\n",
    "        return re.findall(path_regex,image_path,re.MULTILINE)[0].strip()\r\n",
    "    else:\r\n",
    "        return 'invoice'"
   ]
  },
  {
   "cell_type": "code",
   "execution_count": null,
   "metadata": {
    "colab": {
     "base_uri": "https://localhost:8080/"
    },
    "id": "gMXgPgXpgYe8",
    "outputId": "b7f4f5b1-462d-4423-cd3f-6ba1b017cb39"
   },
   "outputs": [
    {
     "name": "stdout",
     "output_type": "stream",
     "text": [
      "                                                  path  is_invoice image_type\n",
      "0    train/invoice/301014_0_3123458T0-2_jpg.rf.ab61...           1    invoice\n",
      "1    valid/invoice/Invoice_76_jpg.rf.eff747f19c1bed...           1    invoice\n",
      "2    train/invoice/Invoice_191_jpg.rf.82c4156e1defb...           1    invoice\n",
      "3    test/others/Boom_Lift_Hire_details_form_-_Grad...           0     others\n",
      "4    train/invoice/5401_Gradian_Projects_INV2080-1_...           1    invoice\n",
      "..                                                 ...         ...        ...\n",
      "131  train/invoice/Invoice_56_jpg.rf.7ecf2510bc49a6...           1    invoice\n",
      "132  test/others/Friendlies_Footbridge_-_Complete_S...           0     others\n",
      "133  valid/invoice/Invoice_97_jpg.rf.0a71cc46f3aeee...           1    invoice\n",
      "134              test/others/Google_OAuth_Guide-11.jpg           0     others\n",
      "135  train/invoice/EStatement-1_jpg.rf.7d3237401d71...           1    invoice\n",
      "\n",
      "[136 rows x 3 columns]\n"
     ]
    }
   ],
   "source": [
    "# create test dataframe\r\n",
    "all_test_paths = test_img_paths_car+test_img_paths_no_car\r\n",
    "test_path_df = pd.DataFrame({\r\n",
    "    'path': all_test_paths,\r\n",
    "    'is_invoice': [1 if path in test_img_paths_car else 0 for path in all_test_paths]\r\n",
    "})\r\n",
    "test_path_df = shuffle(test_path_df,random_state = 0).reset_index(drop = True)\r\n",
    "test_path_df['image_type'] = test_path_df['path'].apply(lambda x: natural_img_dir(x))\r\n",
    "all_test_paths = test_path_df['path'].tolist()\r\n",
    "print(test_path_df)"
   ]
  },
  {
   "cell_type": "code",
   "execution_count": null,
   "metadata": {
    "colab": {
     "base_uri": "https://localhost:8080/"
    },
    "id": "y2pXIG6LjEh7",
    "outputId": "b33b496f-cc66-458c-8e47-34ad51a9048d"
   },
   "outputs": [
    {
     "name": "stdout",
     "output_type": "stream",
     "text": [
      "Distribution of Image Types in Test Set\n",
      "invoice    71\n",
      "others     65\n",
      "Name: image_type, dtype: int64\n"
     ]
    }
   ],
   "source": [
    "print('Distribution of Image Types in Test Set')\r\n",
    "print(test_path_df['image_type'].value_counts())"
   ]
  },
  {
   "cell_type": "code",
   "execution_count": null,
   "metadata": {
    "id": "RmeixgsvjGaG"
   },
   "outputs": [],
   "source": [
    "# create val dataframe\r\n",
    "all_val_paths = val_img_paths_car+val_img_paths_no_car\r\n",
    "val_path_df = pd.DataFrame({\r\n",
    "    'path': all_val_paths,\r\n",
    "    'is_car': [1 if path in val_img_paths_car else 0 for path in all_val_paths]\r\n",
    "})\r\n",
    "val_path_df = shuffle(val_path_df,random_state = 0).reset_index(drop = True)\r\n",
    "val_path_df['image_type'] = val_path_df['path'].apply(lambda x: natural_img_dir(x))\r\n",
    "all_val_paths = val_path_df['path'].tolist()"
   ]
  },
  {
   "cell_type": "code",
   "execution_count": null,
   "metadata": {
    "colab": {
     "base_uri": "https://localhost:8080/"
    },
    "id": "F0nwiFLAmbIX",
    "outputId": "f4e47d10-6b0c-4afa-b70e-58f1f3942f0f"
   },
   "outputs": [
    {
     "name": "stdout",
     "output_type": "stream",
     "text": [
      "Distribution of Image Types in Validation Set\n",
      "invoice    54\n",
      "others     22\n",
      "Name: image_type, dtype: int64\n"
     ]
    }
   ],
   "source": [
    "print('Distribution of Image Types in Validation Set')\r\n",
    "print(val_path_df['image_type'].value_counts())"
   ]
  },
  {
   "cell_type": "markdown",
   "metadata": {
    "id": "xB4PssOhmjGK"
   },
   "source": [
    "# Feature Extraction With ResNet50\r\n",
    "Removing the prediction layer of the pretrained Resnet50 model allows features to quickly be extracted from selected images."
   ]
  },
  {
   "cell_type": "code",
   "execution_count": null,
   "metadata": {
    "id": "AR4HRr8DmdRn"
   },
   "outputs": [],
   "source": [
    "# prepare images for resnet50\r\n",
    "image_size = 224\r\n",
    "\r\n",
    "def read_and_prep_images(img_paths, img_height=image_size, img_width=image_size):\r\n",
    "    imgs = [load_img(img_path, target_size=(img_height, img_width)) for img_path in img_paths]\r\n",
    "    img_array = np.array([img_to_array(img) for img in imgs])\r\n",
    "    #output = img_array\r\n",
    "    output = preprocess_input(img_array)\r\n",
    "    return(output)\r\n",
    "\r\n",
    "X_train = read_and_prep_images(train_img_paths)\r\n",
    "X_test = read_and_prep_images(all_test_paths)\r\n",
    "X_val = read_and_prep_images(all_val_paths)"
   ]
  },
  {
   "cell_type": "code",
   "execution_count": null,
   "metadata": {
    "colab": {
     "base_uri": "https://localhost:8080/"
    },
    "id": "3iSNNv8RmsQS",
    "outputId": "67b676a0-150e-477f-e4e2-50a7e20d23d3"
   },
   "outputs": [
    {
     "name": "stdout",
     "output_type": "stream",
     "text": [
      "Downloading data from https://storage.googleapis.com/tensorflow/keras-applications/resnet/resnet50_weights_tf_dim_ordering_tf_kernels_notop.h5\n",
      "94773248/94765736 [==============================] - 1s 0us/step\n"
     ]
    }
   ],
   "source": [
    "# get features from resnet50 \r\n",
    "\r\n",
    "# !curl -L 'https://github.com/fchollet/deep-learning-models/releases/download/v0.2/resnet50_weights_tf_dim_ordering_tf_kernels_notop.h5' > resnet50_weights_tf_dim_ordering_tf_kernels_notop.h5\r\n",
    "# resnet_weights_path = 'resnet50_weights_tf_dim_ordering_tf_kernels_notop.h5'\r\n",
    "\r\n",
    "resnet_weights_path = 'models/resnet50_weights_tf_dim_ordering_tf_kernels_notop.h5'\r\n",
    "\r\n",
    "# X : images numpy array\r\n",
    "resnet_model = ResNet50(input_shape=(image_size, image_size, 3), weights='imagenet', include_top=False, pooling='avg')  # Since top layer is the fc layer used for predictions\r\n",
    "\r\n",
    "X_train = resnet_model.predict(X_train)\r\n",
    "X_test = resnet_model.predict(X_test)\r\n",
    "X_val = resnet_model.predict(X_val)"
   ]
  },
  {
   "cell_type": "markdown",
   "metadata": {
    "id": "jcCfFZDkuRNI"
   },
   "source": [
    "# Scaling and PCA\r\n",
    "Reducing the dimensionality of extracted features allow for quicker training times."
   ]
  },
  {
   "cell_type": "code",
   "execution_count": null,
   "metadata": {
    "colab": {
     "base_uri": "https://localhost:8080/"
    },
    "id": "JkX1UCWosGrw",
    "outputId": "72622bb1-5bb2-4812-88c7-9edb235055c7"
   },
   "outputs": [
    {
     "name": "stdout",
     "output_type": "stream",
     "text": [
      "Explained variance percentage = 0.67\n"
     ]
    }
   ],
   "source": [
    "# Apply standard scaler to output from resnet50\r\n",
    "ss = StandardScaler()\r\n",
    "ss.fit(X_train)\r\n",
    "X_train = ss.transform(X_train)\r\n",
    "X_test = ss.transform(X_test)\r\n",
    "X_val = ss.transform(X_val)\r\n",
    "\r\n",
    "# Take PCA to reduce feature space dimensionality\r\n",
    "pca = PCA(n_components=20, whiten=True)\r\n",
    "pca = pca.fit(X_train)\r\n",
    "print('Explained variance percentage = %0.2f' % sum(pca.explained_variance_ratio_))\r\n",
    "X_train = pca.transform(X_train)\r\n",
    "X_test = pca.transform(X_test)\r\n",
    "X_val = pca.transform(X_val)"
   ]
  },
  {
   "cell_type": "markdown",
   "metadata": {
    "id": "YNMU84Dsucj7"
   },
   "source": [
    "# One Class SVM vs Isolation Forest\r\n",
    "These two models can be trained on solely positive class, cars for this project, images, without the need for a validation set."
   ]
  },
  {
   "cell_type": "code",
   "execution_count": null,
   "metadata": {
    "id": "VVrObQzouUIY"
   },
   "outputs": [],
   "source": [
    "# Train classifier and obtain predictions for OC-SVM\r\n",
    "oc_svm_clf = svm.OneClassSVM(gamma=0.001, kernel='rbf', nu=0.08)  # Obtained using grid search\r\n",
    "if_clf = IsolationForest(contamination=0.08, max_features=1.0, max_samples=1.0, n_estimators=40)  # Obtained using grid search\r\n",
    "\r\n",
    "oc_svm_clf.fit(X_train)\r\n",
    "if_clf.fit(X_train)\r\n",
    "\r\n",
    "oc_svm_preds = oc_svm_clf.predict(X_test)\r\n",
    "if_preds = if_clf.predict(X_test)\r\n",
    "\r\n",
    "# Further compute accuracy, precision and recall for the two predictions sets obtained"
   ]
  },
  {
   "cell_type": "code",
   "execution_count": null,
   "metadata": {
    "colab": {
     "base_uri": "https://localhost:8080/",
     "height": 204
    },
    "id": "_A4VuUlJugUJ",
    "outputId": "3b1fa8aa-c85e-4e17-d547-dc8ebef96594"
   },
   "outputs": [
    {
     "data": {
      "text/html": [
       "<div>\n",
       "<style scoped>\n",
       "    .dataframe tbody tr th:only-of-type {\n",
       "        vertical-align: middle;\n",
       "    }\n",
       "\n",
       "    .dataframe tbody tr th {\n",
       "        vertical-align: top;\n",
       "    }\n",
       "\n",
       "    .dataframe thead th {\n",
       "        text-align: right;\n",
       "    }\n",
       "</style>\n",
       "<table border=\"1\" class=\"dataframe\">\n",
       "  <thead>\n",
       "    <tr style=\"text-align: right;\">\n",
       "      <th></th>\n",
       "      <th>path</th>\n",
       "      <th>oc_svm_preds</th>\n",
       "      <th>if_preds</th>\n",
       "      <th>is_invoice</th>\n",
       "      <th>image_type</th>\n",
       "    </tr>\n",
       "  </thead>\n",
       "  <tbody>\n",
       "    <tr>\n",
       "      <th>0</th>\n",
       "      <td>train/invoice/301014_0_3123458T0-2_jpg.rf.ab61...</td>\n",
       "      <td>1</td>\n",
       "      <td>1</td>\n",
       "      <td>1</td>\n",
       "      <td>invoice</td>\n",
       "    </tr>\n",
       "    <tr>\n",
       "      <th>1</th>\n",
       "      <td>valid/invoice/Invoice_76_jpg.rf.eff747f19c1bed...</td>\n",
       "      <td>1</td>\n",
       "      <td>1</td>\n",
       "      <td>1</td>\n",
       "      <td>invoice</td>\n",
       "    </tr>\n",
       "    <tr>\n",
       "      <th>2</th>\n",
       "      <td>train/invoice/Invoice_191_jpg.rf.82c4156e1defb...</td>\n",
       "      <td>1</td>\n",
       "      <td>1</td>\n",
       "      <td>1</td>\n",
       "      <td>invoice</td>\n",
       "    </tr>\n",
       "    <tr>\n",
       "      <th>3</th>\n",
       "      <td>test/others/Boom_Lift_Hire_details_form_-_Grad...</td>\n",
       "      <td>1</td>\n",
       "      <td>1</td>\n",
       "      <td>0</td>\n",
       "      <td>others</td>\n",
       "    </tr>\n",
       "    <tr>\n",
       "      <th>4</th>\n",
       "      <td>train/invoice/5401_Gradian_Projects_INV2080-1_...</td>\n",
       "      <td>1</td>\n",
       "      <td>1</td>\n",
       "      <td>1</td>\n",
       "      <td>invoice</td>\n",
       "    </tr>\n",
       "  </tbody>\n",
       "</table>\n",
       "</div>"
      ],
      "text/plain": [
       "                                                path  ...  image_type\n",
       "0  train/invoice/301014_0_3123458T0-2_jpg.rf.ab61...  ...     invoice\n",
       "1  valid/invoice/Invoice_76_jpg.rf.eff747f19c1bed...  ...     invoice\n",
       "2  train/invoice/Invoice_191_jpg.rf.82c4156e1defb...  ...     invoice\n",
       "3  test/others/Boom_Lift_Hire_details_form_-_Grad...  ...      others\n",
       "4  train/invoice/5401_Gradian_Projects_INV2080-1_...  ...     invoice\n",
       "\n",
       "[5 rows x 5 columns]"
      ]
     },
     "execution_count": 38,
     "metadata": {
      "tags": []
     },
     "output_type": "execute_result"
    }
   ],
   "source": [
    "svm_if_results=pd.DataFrame({\r\n",
    "  'path': all_test_paths,\r\n",
    "  'oc_svm_preds': [0 if x == -1 else 1 for x in oc_svm_preds],\r\n",
    "  'if_preds': [0 if x == -1 else 1 for x in if_preds]\r\n",
    "})\r\n",
    "\r\n",
    "\r\n",
    "svm_if_results=svm_if_results.merge(test_path_df)\r\n",
    "svm_if_results.head()"
   ]
  },
  {
   "cell_type": "code",
   "execution_count": null,
   "metadata": {
    "colab": {
     "base_uri": "https://localhost:8080/",
     "height": 450
    },
    "id": "HF5MpFrhuiNp",
    "outputId": "0d3e3510-a557-4f01-e432-f27c882f6351"
   },
   "outputs": [
    {
     "name": "stdout",
     "output_type": "stream",
     "text": [
      "roc auc score: if_preds\n",
      "0.6\n",
      "              precision    recall  f1-score   support\n",
      "\n",
      "           0       1.00      0.20      0.33        65\n",
      "           1       0.58      1.00      0.73        71\n",
      "\n",
      "    accuracy                           0.62       136\n",
      "   macro avg       0.79      0.60      0.53       136\n",
      "weighted avg       0.78      0.62      0.54       136\n",
      "\n"
     ]
    },
    {
     "data": {
      "image/png": "[encoded data removed]",
      "text/plain": [
       "<Figure size 432x288 with 2 Axes>"
      ]
     },
     "metadata": {
      "needs_background": "light",
      "tags": []
     },
     "output_type": "display_data"
    }
   ],
   "source": [
    "print('roc auc score: if_preds')\r\n",
    "if_preds=svm_if_results['if_preds']\r\n",
    "actual=svm_if_results['is_invoice']\r\n",
    "print(roc_auc_score(actual, if_preds))\r\n",
    "print(classification_report(actual, if_preds))\r\n",
    "sns.heatmap(confusion_matrix(actual, if_preds),annot=True,fmt='2.0f')\r\n",
    "plt.show()"
   ]
  },
  {
   "cell_type": "code",
   "execution_count": null,
   "metadata": {
    "colab": {
     "base_uri": "https://localhost:8080/",
     "height": 453
    },
    "id": "ILG-VJpeukuE",
    "outputId": "4ccfb447-8cd2-4cce-bec4-57107e529fbe"
   },
   "outputs": [
    {
     "name": "stdout",
     "output_type": "stream",
     "text": [
      "roc auc score: oc_svm_preds\n",
      "0.5852654387865656\n",
      "              precision    recall  f1-score   support\n",
      "\n",
      "           0       0.92      0.18      0.31        65\n",
      "           1       0.57      0.99      0.72        71\n",
      "\n",
      "    accuracy                           0.60       136\n",
      "   macro avg       0.75      0.59      0.51       136\n",
      "weighted avg       0.74      0.60      0.52       136\n",
      "\n"
     ]
    },
    {
     "data": {
      "image/png": "[encoded data removed]",
      "text/plain": [
       "<Figure size 432x288 with 2 Axes>"
      ]
     },
     "metadata": {
      "needs_background": "light",
      "tags": []
     },
     "output_type": "display_data"
    }
   ],
   "source": [
    "print('roc auc score: oc_svm_preds')\r\n",
    "oc_svm_preds=svm_if_results['oc_svm_preds']\r\n",
    "actual=svm_if_results['is_invoice']\r\n",
    "print(roc_auc_score(actual, oc_svm_preds))\r\n",
    "print(classification_report(actual, oc_svm_preds))\r\n",
    "sns.heatmap(confusion_matrix(actual, oc_svm_preds),annot=True,fmt='2.0f')\r\n",
    "plt.show()"
   ]
  },
  {
   "cell_type": "markdown",
   "metadata": {
    "id": "kbFVyjVdu0Qo"
   },
   "source": [
    "# **Gaussian Mixture and Isotonic Regression**\r\n",
    "These models leverage validation data to additionally learn distinctions between positive and not positive class images. With real world problems, the data scientist might have a hunch on what \"not positive images\" might appear alongside its positive counterparts; these selections would be appropriate to include in the validation data. For example, a marine biologist may ask a data scientist to perform One Class Clasification to return only images with a shark in the photo. To leverage the GMM model below, the data scientist might choose to also include non-shark fishes, whales, and open ocean images in the validation data alongside some shark images."
   ]
  },
  {
   "cell_type": "code",
   "execution_count": null,
   "metadata": {
    "id": "d2WhEic9urlE"
   },
   "outputs": [],
   "source": [
    "y_val = val_path_df['is_car'].tolist()\r\n",
    "\r\n",
    "gmm_clf = GaussianMixture(covariance_type='spherical', n_components=18, max_iter=int(1e7))  # From Article (These params should be optimized for this problem)\r\n",
    "gmm_clf.fit(X_train)\r\n",
    "log_probs_val = gmm_clf.score_samples(X_val)\r\n",
    "isotonic_regressor = IsotonicRegression(out_of_bounds='clip')\r\n",
    "isotonic_regressor.fit(log_probs_val, y_val)  # y_val is for labels 0 - not car 1 - car (validation set)\r\n",
    "\r\n",
    "# Obtaining results on the test set\r\n",
    "log_probs_test = gmm_clf.score_samples(X_test)\r\n",
    "test_probabilities = isotonic_regressor.predict(log_probs_test)\r\n",
    "test_predictions = [1 if prob >= 0.5 else 0 for prob in test_probabilities]"
   ]
  },
  {
   "cell_type": "code",
   "execution_count": null,
   "metadata": {
    "colab": {
     "base_uri": "https://localhost:8080/",
     "height": 204
    },
    "id": "ZT19SRuNu8BU",
    "outputId": "7d4bb0e7-f6bf-4a18-9dff-d95afd1d7e1b"
   },
   "outputs": [
    {
     "data": {
      "text/html": [
       "<div>\n",
       "<style scoped>\n",
       "    .dataframe tbody tr th:only-of-type {\n",
       "        vertical-align: middle;\n",
       "    }\n",
       "\n",
       "    .dataframe tbody tr th {\n",
       "        vertical-align: top;\n",
       "    }\n",
       "\n",
       "    .dataframe thead th {\n",
       "        text-align: right;\n",
       "    }\n",
       "</style>\n",
       "<table border=\"1\" class=\"dataframe\">\n",
       "  <thead>\n",
       "    <tr style=\"text-align: right;\">\n",
       "      <th></th>\n",
       "      <th>path</th>\n",
       "      <th>gmm_preds</th>\n",
       "      <th>is_invoice</th>\n",
       "      <th>image_type</th>\n",
       "    </tr>\n",
       "  </thead>\n",
       "  <tbody>\n",
       "    <tr>\n",
       "      <th>0</th>\n",
       "      <td>train/invoice/301014_0_3123458T0-2_jpg.rf.ab61...</td>\n",
       "      <td>1</td>\n",
       "      <td>1</td>\n",
       "      <td>invoice</td>\n",
       "    </tr>\n",
       "    <tr>\n",
       "      <th>1</th>\n",
       "      <td>valid/invoice/Invoice_76_jpg.rf.eff747f19c1bed...</td>\n",
       "      <td>1</td>\n",
       "      <td>1</td>\n",
       "      <td>invoice</td>\n",
       "    </tr>\n",
       "    <tr>\n",
       "      <th>2</th>\n",
       "      <td>train/invoice/Invoice_191_jpg.rf.82c4156e1defb...</td>\n",
       "      <td>1</td>\n",
       "      <td>1</td>\n",
       "      <td>invoice</td>\n",
       "    </tr>\n",
       "    <tr>\n",
       "      <th>3</th>\n",
       "      <td>test/others/Boom_Lift_Hire_details_form_-_Grad...</td>\n",
       "      <td>1</td>\n",
       "      <td>0</td>\n",
       "      <td>others</td>\n",
       "    </tr>\n",
       "    <tr>\n",
       "      <th>4</th>\n",
       "      <td>train/invoice/5401_Gradian_Projects_INV2080-1_...</td>\n",
       "      <td>1</td>\n",
       "      <td>1</td>\n",
       "      <td>invoice</td>\n",
       "    </tr>\n",
       "  </tbody>\n",
       "</table>\n",
       "</div>"
      ],
      "text/plain": [
       "                                                path  ...  image_type\n",
       "0  train/invoice/301014_0_3123458T0-2_jpg.rf.ab61...  ...     invoice\n",
       "1  valid/invoice/Invoice_76_jpg.rf.eff747f19c1bed...  ...     invoice\n",
       "2  train/invoice/Invoice_191_jpg.rf.82c4156e1defb...  ...     invoice\n",
       "3  test/others/Boom_Lift_Hire_details_form_-_Grad...  ...      others\n",
       "4  train/invoice/5401_Gradian_Projects_INV2080-1_...  ...     invoice\n",
       "\n",
       "[5 rows x 4 columns]"
      ]
     },
     "execution_count": 46,
     "metadata": {
      "tags": []
     },
     "output_type": "execute_result"
    }
   ],
   "source": [
    "gmm_results = pd.DataFrame({\r\n",
    "  'path': all_test_paths,\r\n",
    "  'gmm_preds': test_predictions\r\n",
    "})\r\n",
    "\r\n",
    "gmm_results = gmm_results.merge(test_path_df)\r\n",
    "gmm_results.head()"
   ]
  },
  {
   "cell_type": "code",
   "execution_count": null,
   "metadata": {
    "colab": {
     "base_uri": "https://localhost:8080/",
     "height": 449
    },
    "id": "VxY03WVYvMm_",
    "outputId": "36cc8be8-902c-4b5e-aa69-6d4be4ed948e"
   },
   "outputs": [
    {
     "name": "stdout",
     "output_type": "stream",
     "text": [
      "roc auc score: gmm_preds\n",
      "0.6166847237269772\n",
      "              precision    recall  f1-score   support\n",
      "\n",
      "           0       0.89      0.26      0.40        65\n",
      "           1       0.59      0.97      0.73        71\n",
      "\n",
      "    accuracy                           0.63       136\n",
      "   macro avg       0.74      0.62      0.57       136\n",
      "weighted avg       0.74      0.63      0.58       136\n",
      "\n"
     ]
    },
    {
     "data": {
      "image/png": "[encoded data removed]",
      "text/plain": [
       "<Figure size 432x288 with 2 Axes>"
      ]
     },
     "metadata": {
      "needs_background": "light",
      "tags": []
     },
     "output_type": "display_data"
    }
   ],
   "source": [
    "print('roc auc score: gmm_preds')\r\n",
    "gmm_preds = gmm_results['gmm_preds']\r\n",
    "actual = gmm_results['is_invoice']\r\n",
    "print(roc_auc_score(actual, gmm_preds))\r\n",
    "print(classification_report(actual, gmm_preds))\r\n",
    "sns.heatmap(confusion_matrix(actual, gmm_preds),annot = True,fmt = '2.0f')\r\n",
    "plt.show()"
   ]
  },
  {
   "cell_type": "code",
   "execution_count": null,
   "metadata": {
    "id": "-SW-EERrvOnC"
   },
   "outputs": [],
   "source": []
  },
  {
   "cell_type": "markdown",
   "metadata": {
    "id": "7ZYUCUCqvUDc"
   },
   "source": [
    "## **Error Analysis**\r\n",
    "\r\n",
    "The OC SVM and IF models had fewer False Positives but more False Negatives compared to the GMM model, with the OC SVM model outperforming the IF one. Depending on the use case of a project, it might be wiser to choose the OC SVM over the GMM or vice versa. A fulfillment center might opt to use the OC SVM model as it has fewer False Positives, meaning when it chooses to pack an object, such as a toy car, it is more likely to pack the right object than the GMM model. However, a healthcare imaging device may be favor the GMM more, as making a False Negative is much more costly to the patient than a False Positive.\r\n",
    "\r\n",
    "Looking at the types of images of the False Positives, it isn't surprising to see that motorbikes were the most commonly mispredicted as a car as the presence of wheels and metal chassis share similarities.\r\n",
    "\r\n",
    "A naive look at the cars in the False Negative class show that images of exotic cars and cars shot at atypical angles or with other objects in the view were among the cars mispredicted as non-cars."
   ]
  },
  {
   "cell_type": "code",
   "execution_count": null,
   "metadata": {
    "colab": {
     "base_uri": "https://localhost:8080/"
    },
    "id": "lLaVwJRCvUkp",
    "outputId": "0407353e-ab31-4f9d-839e-599555ebaa60"
   },
   "outputs": [
    {
     "name": "stdout",
     "output_type": "stream",
     "text": [
      "False Positive Actual Image Types for OC SVM: \n",
      "others    53\n",
      "Name: image_type, dtype: int64\n"
     ]
    }
   ],
   "source": [
    "print('False Positive Actual Image Types for OC SVM: ')\r\n",
    "print(svm_if_results[svm_if_results['oc_svm_preds']>svm_if_results['is_invoice']]['image_type'].value_counts())"
   ]
  },
  {
   "cell_type": "code",
   "execution_count": null,
   "metadata": {
    "colab": {
     "base_uri": "https://localhost:8080/"
    },
    "id": "Wfci9SROvX_h",
    "outputId": "e54652e4-91d3-4259-a82f-789ad3d6634a"
   },
   "outputs": [
    {
     "name": "stdout",
     "output_type": "stream",
     "text": [
      "FALSE POSITIVE\n",
      "oc_svm_preds: 1 | actual: 0\n",
      "FALSE POSITIVE\n",
      "oc_svm_preds: 1 | actual: 0\n",
      "FALSE POSITIVE\n",
      "oc_svm_preds: 1 | actual: 0\n",
      "FALSE POSITIVE\n",
      "oc_svm_preds: 1 | actual: 0\n",
      "FALSE POSITIVE\n",
      "oc_svm_preds: 1 | actual: 0\n"
     ]
    }
   ],
   "source": [
    "for index, row in svm_if_results[svm_if_results['oc_svm_preds']!=svm_if_results['is_invoice']].head(5).iterrows():\r\n",
    "    if row['oc_svm_preds']==1:\r\n",
    "        print('FALSE POSITIVE')\r\n",
    "        print('oc_svm_preds: ' + str(row['oc_svm_preds']) + ' | actual: '+ str(row['is_invoice']))\r\n",
    "        # display(Image(row['path']))\r\n",
    "    else:\r\n",
    "        print('FALSE NEGATIVE')\r\n",
    "        print('oc_svm_preds: ' + str(row['oc_svm_preds']) + ' | actual: '+ str(row['is_invoice']))\r\n",
    "        # display(Image(row['path']))"
   ]
  },
  {
   "cell_type": "code",
   "execution_count": null,
   "metadata": {
    "colab": {
     "base_uri": "https://localhost:8080/"
    },
    "id": "wC0zVQW3vdmL",
    "outputId": "fe7a639b-ed74-4327-b870-6d621f9bdc46"
   },
   "outputs": [
    {
     "name": "stdout",
     "output_type": "stream",
     "text": [
      "False Positive Actual Image Types for IF: \n",
      "others    52\n",
      "Name: image_type, dtype: int64\n"
     ]
    }
   ],
   "source": [
    "print('False Positive Actual Image Types for IF: ')\r\n",
    "print(svm_if_results[svm_if_results['if_preds']>svm_if_results['is_invoice']]['image_type'].value_counts())"
   ]
  },
  {
   "cell_type": "code",
   "execution_count": null,
   "metadata": {
    "colab": {
     "base_uri": "https://localhost:8080/"
    },
    "id": "nbBPn7Z2vkDA",
    "outputId": "da137b2d-4c49-41ab-ddad-39cf1cb8cccc"
   },
   "outputs": [
    {
     "name": "stdout",
     "output_type": "stream",
     "text": [
      "FALSE POSITIVE\n",
      "if_preds: 1 | actual: 0\n",
      "FALSE POSITIVE\n",
      "if_preds: 1 | actual: 0\n",
      "FALSE POSITIVE\n",
      "if_preds: 1 | actual: 0\n",
      "FALSE POSITIVE\n",
      "if_preds: 1 | actual: 0\n",
      "FALSE POSITIVE\n",
      "if_preds: 1 | actual: 0\n"
     ]
    }
   ],
   "source": [
    "for index, row in svm_if_results[svm_if_results['if_preds']!=svm_if_results['is_invoice']].head(5).iterrows():\r\n",
    "    if row['if_preds']==1:\r\n",
    "        print('FALSE POSITIVE')\r\n",
    "        print('if_preds: ' + str(row['if_preds']) + ' | actual: '+ str(row['is_invoice']))\r\n",
    "        # display(Image(row['path']))\r\n",
    "    else:\r\n",
    "        print('FALSE NEGATIVE')\r\n",
    "        print('if_preds: ' + str(row['if_preds']) + ' | actual: '+ str(row['is_invoice']))\r\n",
    "        # display(Image(row['path']))"
   ]
  },
  {
   "cell_type": "code",
   "execution_count": null,
   "metadata": {
    "colab": {
     "base_uri": "https://localhost:8080/"
    },
    "id": "pn_DMNhGvpcf",
    "outputId": "750753f2-ef69-4393-e8c9-5cb020840933"
   },
   "outputs": [
    {
     "name": "stdout",
     "output_type": "stream",
     "text": [
      "False Positive Actual Image Types for GMM: \n",
      "others    48\n",
      "Name: image_type, dtype: int64\n"
     ]
    }
   ],
   "source": [
    "print('False Positive Actual Image Types for GMM: ')\r\n",
    "print(gmm_results[gmm_results['gmm_preds']>gmm_results['is_invoice']]['image_type'].value_counts())"
   ]
  },
  {
   "cell_type": "code",
   "execution_count": null,
   "metadata": {
    "colab": {
     "base_uri": "https://localhost:8080/"
    },
    "id": "DO4YZN1AvsT-",
    "outputId": "7bc6133f-bda5-4e1d-9f7c-a895026e33a9"
   },
   "outputs": [
    {
     "name": "stdout",
     "output_type": "stream",
     "text": [
      "FALSE POSITIVE\n",
      "gmm_preds: 1 | actual: 0\n",
      "FALSE POSITIVE\n",
      "gmm_preds: 1 | actual: 0\n",
      "FALSE POSITIVE\n",
      "gmm_preds: 1 | actual: 0\n",
      "FALSE POSITIVE\n",
      "gmm_preds: 1 | actual: 0\n",
      "FALSE POSITIVE\n",
      "gmm_preds: 1 | actual: 0\n"
     ]
    }
   ],
   "source": [
    "for index, row in gmm_results[gmm_results['gmm_preds']!=gmm_results['is_invoice']].head(5).iterrows():\r\n",
    "    if row['gmm_preds']==1:\r\n",
    "        print('FALSE POSITIVE')\r\n",
    "        print('gmm_preds: ' + str(row['gmm_preds']) + ' | actual: '+ str(row['is_invoice']))\r\n",
    "        # display(Image(row['path']))\r\n",
    "    else:\r\n",
    "        print('FALSE NEGATIVE')\r\n",
    "        print('gmm_preds: ' + str(row['gmm_preds']) + ' | actual: '+ str(row['is_invoice']))\r\n",
    "        # display(Image(row['path']))"
   ]
  },
  {
   "cell_type": "code",
   "execution_count": null,
   "metadata": {
    "id": "UBTuGsW1vvDg"
   },
   "outputs": [],
   "source": []
  }
 ],
 "metadata": {
  "colab": {
   "name": "[GMM] One Class Classification.ipynb",
   "provenance": []
  },
  "kernelspec": {
   "display_name": "Python 3",
   "language": "python",
   "name": "python3"
  },
  "language_info": {
   "codemirror_mode": {
    "name": "ipython",
    "version": 3
   },
   "file_extension": ".py",
   "mimetype": "text/x-python",
   "name": "python",
   "nbconvert_exporter": "python",
   "pygments_lexer": "ipython3",
   "version": "3.8.5"
  }
 },
 "nbformat": 4,
 "nbformat_minor": 4
}
